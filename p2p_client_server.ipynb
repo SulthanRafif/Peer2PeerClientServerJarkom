{
 "cells": [
  {
   "cell_type": "markdown",
   "id": "05105286",
   "metadata": {},
   "source": [
    "## Import library sympy, matplotlib, numpy"
   ]
  },
  {
   "cell_type": "code",
   "execution_count": 57,
   "id": "6fd8b460",
   "metadata": {},
   "outputs": [],
   "source": [
    "import sympy as sp\n",
    "import matplotlib.pyplot as plt\n",
    "import numpy as np"
   ]
  },
  {
   "cell_type": "markdown",
   "id": "5c4523d7",
   "metadata": {},
   "source": [
    "# Client to Server Calculation"
   ]
  },
  {
   "cell_type": "markdown",
   "id": "014c3f08",
   "metadata": {},
   "source": [
    "## Set symbol for client to server formula"
   ]
  },
  {
   "cell_type": "code",
   "execution_count": 58,
   "id": "c57c786b",
   "metadata": {},
   "outputs": [],
   "source": [
    "N, F, us, dmin = sp.symbols('N F U_s d_min')"
   ]
  },
  {
   "cell_type": "markdown",
   "id": "7ec39e85",
   "metadata": {},
   "source": [
    "## Display Symbols"
   ]
  },
  {
   "cell_type": "code",
   "execution_count": 59,
   "id": "4cb4db0e",
   "metadata": {},
   "outputs": [
    {
     "data": {
      "text/latex": [
       "$\\displaystyle N$"
      ],
      "text/plain": [
       "N"
      ]
     },
     "metadata": {},
     "output_type": "display_data"
    }
   ],
   "source": [
    "display(N)"
   ]
  },
  {
   "cell_type": "code",
   "execution_count": 60,
   "id": "420d8e1f",
   "metadata": {},
   "outputs": [
    {
     "data": {
      "text/latex": [
       "$\\displaystyle F$"
      ],
      "text/plain": [
       "F"
      ]
     },
     "metadata": {},
     "output_type": "display_data"
    }
   ],
   "source": [
    "display(F)"
   ]
  },
  {
   "cell_type": "code",
   "execution_count": 61,
   "id": "61ca9b9f",
   "metadata": {},
   "outputs": [
    {
     "data": {
      "text/latex": [
       "$\\displaystyle U_{s}$"
      ],
      "text/plain": [
       "U_s"
      ]
     },
     "metadata": {},
     "output_type": "display_data"
    }
   ],
   "source": [
    "display(us)"
   ]
  },
  {
   "cell_type": "code",
   "execution_count": 62,
   "id": "cf75e752",
   "metadata": {},
   "outputs": [
    {
     "data": {
      "text/latex": [
       "$\\displaystyle d_{min}$"
      ],
      "text/plain": [
       "d_min"
      ]
     },
     "metadata": {},
     "output_type": "display_data"
    }
   ],
   "source": [
    "display(dmin)"
   ]
  },
  {
   "cell_type": "markdown",
   "id": "1f6c6e75",
   "metadata": {},
   "source": [
    "## Display Formula"
   ]
  },
  {
   "cell_type": "code",
   "execution_count": 63,
   "id": "72189fe0",
   "metadata": {},
   "outputs": [
    {
     "data": {
      "text/latex": [
       "$\\displaystyle \\frac{F N}{U_{s}}$"
      ],
      "text/plain": [
       "F*N/U_s"
      ]
     },
     "metadata": {},
     "output_type": "display_data"
    },
    {
     "data": {
      "text/latex": [
       "$\\displaystyle \\frac{F}{d_{min}}$"
      ],
      "text/plain": [
       "F/d_min"
      ]
     },
     "metadata": {},
     "output_type": "display_data"
    }
   ],
   "source": [
    "eq_c2s = N*F/us\n",
    "eq2_c2s = F/dmin\n",
    "display(eq_c2s)\n",
    "display(eq2_c2s)"
   ]
  },
  {
   "cell_type": "markdown",
   "id": "ebfbca91",
   "metadata": {},
   "source": [
    "## Create calculation method of eq formula"
   ]
  },
  {
   "cell_type": "code",
   "execution_count": 64,
   "id": "d17f8ff7",
   "metadata": {},
   "outputs": [],
   "source": [
    "eq_lmbd_c2s = sp.lambdify((N,F,us),eq_c2s)\n",
    "eq2_lmbd_c2s = sp.lambdify((F, dmin),eq2_c2s)"
   ]
  },
  {
   "cell_type": "markdown",
   "id": "e02d4a79",
   "metadata": {},
   "source": [
    "## Input argument in calculation method of eq formula"
   ]
  },
  {
   "cell_type": "code",
   "execution_count": 65,
   "id": "5c8c763a",
   "metadata": {},
   "outputs": [
    {
     "name": "stdout",
     "output_type": "stream",
     "text": [
      "1.0\n"
     ]
    }
   ],
   "source": [
    "print(eq_lmbd_c2s(5,2,10))"
   ]
  },
  {
   "cell_type": "markdown",
   "id": "5a8339c7",
   "metadata": {},
   "source": [
    "## Generate N values for client to server calculation "
   ]
  },
  {
   "cell_type": "code",
   "execution_count": 66,
   "id": "6379cd80",
   "metadata": {},
   "outputs": [
    {
     "name": "stdout",
     "output_type": "stream",
     "text": [
      "[ 1.  2.  3.  4.  5.  6.  7.  8.  9. 10. 11. 12. 13. 14. 15. 16. 17. 18.\n",
      " 19. 20. 21. 22. 23. 24. 25. 26. 27. 28. 29. 30. 31. 32. 33. 34. 35.]\n"
     ]
    }
   ],
   "source": [
    "nilai_N_c2s = np.linspace(1,35,35) \n",
    "print(nilai_N_c2s)"
   ]
  },
  {
   "cell_type": "markdown",
   "id": "9ddf81d8",
   "metadata": {},
   "source": [
    "## Run the calculation process using all N values in calculation method of eq formula"
   ]
  },
  {
   "cell_type": "code",
   "execution_count": 67,
   "id": "3ddc00da",
   "metadata": {},
   "outputs": [
    {
     "name": "stdout",
     "output_type": "stream",
     "text": [
      "[0.2 0.4 0.6 0.8 1.  1.2 1.4 1.6 1.8 2.  2.2 2.4 2.6 2.8 3.  3.2 3.4 3.6\n",
      " 3.8 4.  4.2 4.4 4.6 4.8 5.  5.2 5.4 5.6 5.8 6.  6.2 6.4 6.6 6.8 7. ]\n"
     ]
    }
   ],
   "source": [
    "F_c2s = 2\n",
    "dmin_c2s = 10\n",
    "us_c2s = 10\n",
    "\n",
    "data_n_c2s = []\n",
    "data_n2_c2s = []\n",
    "for n in nilai_N_c2s:\n",
    "    data_n_c2s.append(eq_lmbd_c2s(n,F_c2s,us_c2s))\n",
    "    data_n2_c2s.append(eq2_lmbd_c2s(F_c2s, dmin_c2s))\n",
    "hasil_c2s = np.maximum(data_n_c2s, data_n2_c2s)\n",
    "print(hasil_c2s)"
   ]
  },
  {
   "cell_type": "markdown",
   "id": "bde8c9d4",
   "metadata": {},
   "source": [
    "## Visualize the graphic of the result of calculation process of Client to Server"
   ]
  },
  {
   "cell_type": "code",
   "execution_count": 68,
   "id": "6dabc78d",
   "metadata": {},
   "outputs": [
    {
     "data": {
      "text/plain": [
       "Text(0, 0.5, 'Client to Server Result')"
      ]
     },
     "execution_count": 68,
     "metadata": {},
     "output_type": "execute_result"
    },
    {
     "data": {
      "image/png": "[encoded data removed]",
      "text/plain": [
       "<Figure size 640x480 with 1 Axes>"
      ]
     },
     "metadata": {},
     "output_type": "display_data"
    }
   ],
   "source": [
    "plt.plot(nilai_N_c2s, hasil_c2s)\n",
    "plt.xlabel('N')\n",
    "plt.ylabel('Client to Server Result')"
   ]
  },
  {
   "cell_type": "markdown",
   "id": "b5723b8d",
   "metadata": {},
   "source": [
    "# Peer to Peer Calculation"
   ]
  },
  {
   "cell_type": "markdown",
   "id": "769f40e9",
   "metadata": {},
   "source": [
    "## Set symbol for Client to Server Formula"
   ]
  },
  {
   "cell_type": "code",
   "execution_count": 69,
   "id": "30f4711f",
   "metadata": {},
   "outputs": [],
   "source": [
    "N, F, us, dmin, sigma_ui = sp.symbols('N F U_s d_min \\Sigma{u_i}')"
   ]
  },
  {
   "cell_type": "markdown",
   "id": "e0244175",
   "metadata": {},
   "source": [
    "## Display symbols"
   ]
  },
  {
   "cell_type": "code",
   "execution_count": 70,
   "id": "168cfc21",
   "metadata": {},
   "outputs": [
    {
     "data": {
      "text/latex": [
       "$\\displaystyle N$"
      ],
      "text/plain": [
       "N"
      ]
     },
     "metadata": {},
     "output_type": "display_data"
    }
   ],
   "source": [
    "display(N)"
   ]
  },
  {
   "cell_type": "code",
   "execution_count": 71,
   "id": "91b05807",
   "metadata": {},
   "outputs": [
    {
     "data": {
      "text/latex": [
       "$\\displaystyle F$"
      ],
      "text/plain": [
       "F"
      ]
     },
     "metadata": {},
     "output_type": "display_data"
    }
   ],
   "source": [
    "display(F)"
   ]
  },
  {
   "cell_type": "code",
   "execution_count": 72,
   "id": "7a5f0326",
   "metadata": {},
   "outputs": [
    {
     "data": {
      "text/latex": [
       "$\\displaystyle U_{s}$"
      ],
      "text/plain": [
       "U_s"
      ]
     },
     "metadata": {},
     "output_type": "display_data"
    }
   ],
   "source": [
    "display(us)"
   ]
  },
  {
   "cell_type": "code",
   "execution_count": 73,
   "id": "1736dde0",
   "metadata": {},
   "outputs": [
    {
     "data": {
      "text/latex": [
       "$\\displaystyle d_{min}$"
      ],
      "text/plain": [
       "d_min"
      ]
     },
     "metadata": {},
     "output_type": "display_data"
    }
   ],
   "source": [
    "display(dmin)"
   ]
  },
  {
   "cell_type": "code",
   "execution_count": 74,
   "id": "92bd2e68",
   "metadata": {},
   "outputs": [
    {
     "data": {
      "text/latex": [
       "$\\displaystyle \\Sigma{u_i}$"
      ],
      "text/plain": [
       "\\Sigma{u_i}"
      ]
     },
     "metadata": {},
     "output_type": "display_data"
    }
   ],
   "source": [
    "display(sigma_ui)"
   ]
  },
  {
   "cell_type": "code",
   "execution_count": 75,
   "id": "deb57847",
   "metadata": {},
   "outputs": [
    {
     "data": {
      "text/latex": [
       "$\\displaystyle \\frac{F}{U_{s}}$"
      ],
      "text/plain": [
       "F/U_s"
      ]
     },
     "metadata": {},
     "output_type": "display_data"
    },
    {
     "data": {
      "text/latex": [
       "$\\displaystyle \\frac{F}{d_{min}}$"
      ],
      "text/plain": [
       "F/d_min"
      ]
     },
     "metadata": {},
     "output_type": "display_data"
    },
    {
     "data": {
      "text/latex": [
       "$\\displaystyle \\frac{F N}{U_{s} + \\Sigma{u_i}}$"
      ],
      "text/plain": [
       "F*N/(U_s + \\Sigma{u_i})"
      ]
     },
     "metadata": {},
     "output_type": "display_data"
    }
   ],
   "source": [
    "eq_p2p = F/us\n",
    "eq2_p2p = F/dmin\n",
    "eq3_p2p = (N*F)/(us+sigma_ui)\n",
    "display(eq_p2p)\n",
    "display(eq2_p2p)\n",
    "display(eq3_p2p)"
   ]
  },
  {
   "cell_type": "markdown",
   "id": "ba839164",
   "metadata": {},
   "source": [
    "## Create Calculation Method for eq, eq2, eq3 formulas"
   ]
  },
  {
   "cell_type": "code",
   "execution_count": 76,
   "id": "323b0dd1",
   "metadata": {},
   "outputs": [],
   "source": [
    "eq_lmbd_p2p = sp.lambdify((F,us),eq_p2p)\n",
    "eq2_lmbd_p2p = sp.lambdify((F,dmin),eq2_p2p)\n",
    "eq3_lmbd_p2p = sp.lambdify((N,F,us,sigma_ui),eq3_p2p)"
   ]
  },
  {
   "cell_type": "markdown",
   "id": "58990182",
   "metadata": {},
   "source": [
    "## Display calculation result for eq, eq2, eq3 formulas"
   ]
  },
  {
   "cell_type": "code",
   "execution_count": 77,
   "id": "2cff64c7",
   "metadata": {},
   "outputs": [
    {
     "name": "stdout",
     "output_type": "stream",
     "text": [
      "512.0\n"
     ]
    }
   ],
   "source": [
    "F_value = 15 * 1024\n",
    "us_value = 30\n",
    "\n",
    "print(eq_lmbd_p2p(F_value, us_value))"
   ]
  },
  {
   "cell_type": "code",
   "execution_count": 78,
   "id": "d1d78977",
   "metadata": {},
   "outputs": [
    {
     "name": "stdout",
     "output_type": "stream",
     "text": [
      "7680.0\n"
     ]
    }
   ],
   "source": [
    "F_value = 15 * 1024\n",
    "dmin_value = 2\n",
    "\n",
    "print(eq2_lmbd_p2p(F_value, dmin_value))"
   ]
  },
  {
   "cell_type": "code",
   "execution_count": 79,
   "id": "de80f325",
   "metadata": {},
   "outputs": [
    {
     "name": "stdout",
     "output_type": "stream",
     "text": [
      "4800.0\n"
     ]
    }
   ],
   "source": [
    "N_value = 10\n",
    "F_value = 15 * 1024\n",
    "us_value = 30\n",
    "sigma_ui_value = 2\n",
    "\n",
    "print(eq3_lmbd_p2p(N_value,F_value,us_value,sigma_ui_value))"
   ]
  },
  {
   "cell_type": "markdown",
   "id": "d2c66a73",
   "metadata": {},
   "source": [
    "## Generate N values for Peer to Peer calculation "
   ]
  },
  {
   "cell_type": "code",
   "execution_count": 80,
   "id": "dc6a189d",
   "metadata": {},
   "outputs": [
    {
     "name": "stdout",
     "output_type": "stream",
     "text": [
      "[ 1.  2.  3.  4.  5.  6.  7.  8.  9. 10. 11. 12. 13. 14. 15. 16. 17. 18.\n",
      " 19. 20. 21. 22. 23. 24. 25. 26. 27. 28. 29. 30. 31. 32. 33. 34. 35.]\n"
     ]
    }
   ],
   "source": [
    "N_values_p2p = np.linspace(1,35,35)\n",
    "print(N_values_p2p)"
   ]
  },
  {
   "cell_type": "markdown",
   "id": "c8f4df96",
   "metadata": {},
   "source": [
    "## Run the calculation process using all N values in calculation method of eq formula"
   ]
  },
  {
   "cell_type": "code",
   "execution_count": 81,
   "id": "c572e540",
   "metadata": {},
   "outputs": [
    {
     "name": "stdout",
     "output_type": "stream",
     "text": [
      "[0.2        0.33333333 0.46153846 0.57142857 0.66666667 0.75\n",
      " 0.82352941 0.88888889 0.94736842 1.         1.04761905 1.09090909\n",
      " 1.13043478 1.16666667 1.2        1.23076923 1.25925926 1.28571429\n",
      " 1.31034483 1.33333333 1.35483871 1.375      1.39393939 1.41176471\n",
      " 1.42857143 1.44444444 1.45945946 1.47368421 1.48717949 1.5\n",
      " 1.51219512 1.52380952 1.53488372 1.54545455 1.55555556]\n"
     ]
    }
   ],
   "source": [
    "F_p2p = 2\n",
    "dmin_p2p = 10\n",
    "us_p2p = 10\n",
    "\n",
    "data_n_p2p = []\n",
    "data_n2_p2p = []\n",
    "data_n3_p2p = []\n",
    "\n",
    "for n in N_values_p2p:\n",
    "    sigma_p2p = n\n",
    "    data_n_p2p.append(eq_lmbd_p2p(F_p2p, us_p2p))\n",
    "    data_n2_p2p.append(eq2_lmbd_p2p(F_p2p, dmin_p2p))\n",
    "    data_n3_p2p.append(eq3_lmbd_p2p(n, F_p2p ,us_p2p , sigma_p2p))\n",
    "max_n_n2 = np.maximum(data_n_p2p, data_n2_p2p)\n",
    "hasil_p2p = np.maximum(max_n_n2, data_n3_p2p)\n",
    "print(hasil_p2p)\n",
    "    "
   ]
  },
  {
   "cell_type": "markdown",
   "id": "f31a3e2a",
   "metadata": {},
   "source": [
    "## Visualize the graphic of the result of calculation process of Peer to Peer"
   ]
  },
  {
   "cell_type": "code",
   "execution_count": 82,
   "id": "98a29773",
   "metadata": {},
   "outputs": [
    {
     "data": {
      "text/plain": [
       "Text(0, 0.5, 'Peer to Peer')"
      ]
     },
     "execution_count": 82,
     "metadata": {},
     "output_type": "execute_result"
    },
    {
     "data": {
      "image/png": "[encoded data removed]",
      "text/plain": [
       "<Figure size 640x480 with 1 Axes>"
      ]
     },
     "metadata": {},
     "output_type": "display_data"
    }
   ],
   "source": [
    "plt.plot(N_values_p2p, hasil_p2p)\n",
    "plt.xlabel('N')\n",
    "plt.ylabel('Peer to Peer')"
   ]
  },
  {
   "cell_type": "markdown",
   "id": "5bf09d1a",
   "metadata": {},
   "source": [
    "## Visualize the graphic of the result of calculation process of Client to Server and Peer to Peer"
   ]
  },
  {
   "cell_type": "code",
   "execution_count": 83,
   "id": "4d402d9c",
   "metadata": {},
   "outputs": [
    {
     "data": {
      "text/plain": [
       "Text(0, 0.5, 'D')"
      ]
     },
     "execution_count": 83,
     "metadata": {},
     "output_type": "execute_result"
    },
    {
     "data": {
      "image/png": "[encoded data removed]",
      "text/plain": [
       "<Figure size 640x480 with 1 Axes>"
      ]
     },
     "metadata": {},
     "output_type": "display_data"
    }
   ],
   "source": [
    "plt.plot(N_values_p2p, hasil_c2s, hasil_p2p)\n",
    "plt.xlabel('N')\n",
    "plt.ylabel('D')"
   ]
  },
  {
   "cell_type": "code",
   "execution_count": null,
   "id": "e1004f71",
   "metadata": {},
   "outputs": [],
   "source": []
  }
 ],
 "metadata": {
  "kernelspec": {
   "display_name": "Python 3.10.6 64-bit",
   "language": "python",
   "name": "python3"
  },
  "language_info": {
   "codemirror_mode": {
    "name": "ipython",
    "version": 3
   },
   "file_extension": ".py",
   "mimetype": "text/x-python",
   "name": "python",
   "nbconvert_exporter": "python",
   "pygments_lexer": "ipython3",
   "version": "3.10.7"
  },
  "vscode": {
   "interpreter": {
    "hash": "faaada5bcd76f385647ada93378b2b8c712d2e802f3b3e0b5a4a9566bf5ed9c4"
   }
  }
 },
 "nbformat": 4,
 "nbformat_minor": 5
}
