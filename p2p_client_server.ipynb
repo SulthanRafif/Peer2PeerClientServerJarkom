{
 "cells": [
  {
   "cell_type": "markdown",
   "id": "05105286",
   "metadata": {},
   "source": [
    "# Peer to Peer Calculation"
   ]
  },
  {
   "cell_type": "markdown",
   "id": "5c4523d7",
   "metadata": {},
   "source": [
    "## Import library sympy, matplotlib, numpy"
   ]
  },
  {
   "cell_type": "code",
   "execution_count": 3,
   "id": "3f11a780",
   "metadata": {},
   "outputs": [],
   "source": [
    "import sympy as sp\n",
    "import matplotlib.pyplot as plt\n",
    "import numpy as np"
   ]
  },
  {
   "cell_type": "markdown",
   "id": "014c3f08",
   "metadata": {},
   "source": [
    "## Set symbol for peer to peer formula"
   ]
  },
  {
   "cell_type": "code",
   "execution_count": 4,
   "id": "c57c786b",
   "metadata": {},
   "outputs": [],
   "source": [
    "N, F, us, dmin = sp.symbols('N F U_s d_min')"
   ]
  },
  {
   "cell_type": "markdown",
   "id": "7ec39e85",
   "metadata": {},
   "source": [
    "## Display Symbols"
   ]
  },
  {
   "cell_type": "code",
   "execution_count": 5,
   "id": "4cb4db0e",
   "metadata": {},
   "outputs": [
    {
     "data": {
      "text/latex": [
       "$\\displaystyle N$"
      ],
      "text/plain": [
       "N"
      ]
     },
     "metadata": {},
     "output_type": "display_data"
    }
   ],
   "source": [
    "display(N)"
   ]
  },
  {
   "cell_type": "code",
   "execution_count": 6,
   "id": "420d8e1f",
   "metadata": {},
   "outputs": [
    {
     "data": {
      "text/latex": [
       "$\\displaystyle F$"
      ],
      "text/plain": [
       "F"
      ]
     },
     "metadata": {},
     "output_type": "display_data"
    }
   ],
   "source": [
    "display(F)"
   ]
  },
  {
   "cell_type": "code",
   "execution_count": 7,
   "id": "61ca9b9f",
   "metadata": {},
   "outputs": [
    {
     "data": {
      "text/latex": [
       "$\\displaystyle U_{s}$"
      ],
      "text/plain": [
       "U_s"
      ]
     },
     "metadata": {},
     "output_type": "display_data"
    }
   ],
   "source": [
    "display(us)"
   ]
  },
  {
   "cell_type": "code",
   "execution_count": 8,
   "id": "cf75e752",
   "metadata": {},
   "outputs": [
    {
     "data": {
      "text/latex": [
       "$\\displaystyle d_{min}$"
      ],
      "text/plain": [
       "d_min"
      ]
     },
     "metadata": {},
     "output_type": "display_data"
    }
   ],
   "source": [
    "display(dmin)"
   ]
  },
  {
   "cell_type": "markdown",
   "id": "1f6c6e75",
   "metadata": {},
   "source": [
    "## Display Formula"
   ]
  },
  {
   "cell_type": "code",
   "execution_count": 9,
   "id": "72189fe0",
   "metadata": {},
   "outputs": [
    {
     "data": {
      "text/latex": [
       "$\\displaystyle \\frac{F N}{U_{s}}$"
      ],
      "text/plain": [
       "F*N/U_s"
      ]
     },
     "metadata": {},
     "output_type": "display_data"
    },
    {
     "data": {
      "text/latex": [
       "$\\displaystyle \\frac{F}{d_{min}}$"
      ],
      "text/plain": [
       "F/d_min"
      ]
     },
     "metadata": {},
     "output_type": "display_data"
    }
   ],
   "source": [
    "eq = N*F/us\n",
    "eq2 = F/dmin\n",
    "display(eq)\n",
    "display(eq2)"
   ]
  },
  {
   "cell_type": "markdown",
   "id": "ebfbca91",
   "metadata": {},
   "source": [
    "## Create calculation method of eq formula"
   ]
  },
  {
   "cell_type": "code",
   "execution_count": 10,
   "id": "d17f8ff7",
   "metadata": {},
   "outputs": [],
   "source": [
    "eq_lmbd = sp.lambdify((N,F,us),eq)"
   ]
  },
  {
   "cell_type": "markdown",
   "id": "e02d4a79",
   "metadata": {},
   "source": [
    "## Input argument in calculation method of eq formula"
   ]
  },
  {
   "cell_type": "code",
   "execution_count": 11,
   "id": "5c8c763a",
   "metadata": {},
   "outputs": [
    {
     "name": "stdout",
     "output_type": "stream",
     "text": [
      "1.0\n"
     ]
    }
   ],
   "source": [
    "print(eq_lmbd(5,2,10))"
   ]
  },
  {
   "cell_type": "markdown",
   "id": "5a8339c7",
   "metadata": {},
   "source": [
    "## Generate N values, divide "
   ]
  },
  {
   "cell_type": "code",
   "execution_count": 12,
   "id": "6379cd80",
   "metadata": {},
   "outputs": [
    {
     "name": "stdout",
     "output_type": "stream",
     "text": [
      "[  1.   2.   3.   4.   5.   6.   7.   8.   9.  10.  11.  12.  13.  14.\n",
      "  15.  16.  17.  18.  19.  20.  21.  22.  23.  24.  25.  26.  27.  28.\n",
      "  29.  30.  31.  32.  33.  34.  35.  36.  37.  38.  39.  40.  41.  42.\n",
      "  43.  44.  45.  46.  47.  48.  49.  50.  51.  52.  53.  54.  55.  56.\n",
      "  57.  58.  59.  60.  61.  62.  63.  64.  65.  66.  67.  68.  69.  70.\n",
      "  71.  72.  73.  74.  75.  76.  77.  78.  79.  80.  81.  82.  83.  84.\n",
      "  85.  86.  87.  88.  89.  90.  91.  92.  93.  94.  95.  96.  97.  98.\n",
      "  99. 100.]\n"
     ]
    }
   ],
   "source": [
    "nilai_N = np.linspace(1,100,100)\n",
    "print(nilai_N)"
   ]
  },
  {
   "cell_type": "markdown",
   "id": "9ddf81d8",
   "metadata": {},
   "source": [
    "## Run the calculation process using all N values in calculation method of eq formula"
   ]
  },
  {
   "cell_type": "code",
   "execution_count": 13,
   "id": "3ddc00da",
   "metadata": {},
   "outputs": [
    {
     "name": "stdout",
     "output_type": "stream",
     "text": [
      "[0.2, 0.4, 0.6, 0.8, 1.0, 1.2, 1.4, 1.6, 1.8, 2.0, 2.2, 2.4, 2.6, 2.8, 3.0, 3.2, 3.4, 3.6, 3.8, 4.0, 4.2, 4.4, 4.6, 4.8, 5.0, 5.2, 5.4, 5.6, 5.8, 6.0, 6.2, 6.4, 6.6, 6.8, 7.0, 7.2, 7.4, 7.6, 7.8, 8.0, 8.2, 8.4, 8.6, 8.8, 9.0, 9.2, 9.4, 9.6, 9.8, 10.0, 10.2, 10.4, 10.6, 10.8, 11.0, 11.2, 11.4, 11.6, 11.8, 12.0, 12.2, 12.4, 12.6, 12.8, 13.0, 13.2, 13.4, 13.6, 13.8, 14.0, 14.2, 14.4, 14.6, 14.8, 15.0, 15.2, 15.4, 15.6, 15.8, 16.0, 16.2, 16.4, 16.6, 16.8, 17.0, 17.2, 17.4, 17.6, 17.8, 18.0, 18.2, 18.4, 18.6, 18.8, 19.0, 19.2, 19.4, 19.6, 19.8, 20.0]\n"
     ]
    }
   ],
   "source": [
    "data_n = []\n",
    "for n in nilai_N:\n",
    "    data_n.append(eq_lmbd(n,2,10))\n",
    "print(data_n)"
   ]
  },
  {
   "cell_type": "markdown",
   "id": "bde8c9d4",
   "metadata": {},
   "source": [
    "## Visualize the graphic of the result of calculation process of Peer to Peer"
   ]
  },
  {
   "cell_type": "code",
   "execution_count": 14,
   "id": "6dabc78d",
   "metadata": {},
   "outputs": [
    {
     "data": {
      "text/plain": [
       "Text(0, 0.5, '$N/(FU_s)$')"
      ]
     },
     "execution_count": 14,
     "metadata": {},
     "output_type": "execute_result"
    },
    {
     "data": {
      "image/png": "[encoded data removed]",
      "text/plain": [
       "<Figure size 432x288 with 1 Axes>"
      ]
     },
     "metadata": {
      "needs_background": "light"
     },
     "output_type": "display_data"
    }
   ],
   "source": [
    "plt.plot(nilai_N, data_n)\n",
    "plt.xlabel('N')\n",
    "plt.ylabel('$N/(FU_s)$')"
   ]
  },
  {
   "cell_type": "markdown",
   "id": "b5723b8d",
   "metadata": {},
   "source": [
    "# Client to Server Calculation"
   ]
  },
  {
   "cell_type": "markdown",
   "id": "769f40e9",
   "metadata": {},
   "source": [
    "## Set symbol for Client to Server Formula"
   ]
  },
  {
   "cell_type": "code",
   "execution_count": 16,
   "id": "30f4711f",
   "metadata": {},
   "outputs": [],
   "source": [
    "N, F, us, dmin, ui = sp.symbols('N F U_s d_min U_i')"
   ]
  },
  {
   "cell_type": "markdown",
   "id": "e0244175",
   "metadata": {},
   "source": [
    "## Display symbols"
   ]
  },
  {
   "cell_type": "code",
   "execution_count": 17,
   "id": "168cfc21",
   "metadata": {},
   "outputs": [
    {
     "data": {
      "text/latex": [
       "$\\displaystyle N$"
      ],
      "text/plain": [
       "N"
      ]
     },
     "metadata": {},
     "output_type": "display_data"
    }
   ],
   "source": [
    "display(N)"
   ]
  },
  {
   "cell_type": "code",
   "execution_count": 18,
   "id": "91b05807",
   "metadata": {},
   "outputs": [
    {
     "data": {
      "text/latex": [
       "$\\displaystyle F$"
      ],
      "text/plain": [
       "F"
      ]
     },
     "metadata": {},
     "output_type": "display_data"
    }
   ],
   "source": [
    "display(F)"
   ]
  },
  {
   "cell_type": "code",
   "execution_count": 19,
   "id": "7a5f0326",
   "metadata": {},
   "outputs": [
    {
     "data": {
      "text/latex": [
       "$\\displaystyle U_{s}$"
      ],
      "text/plain": [
       "U_s"
      ]
     },
     "metadata": {},
     "output_type": "display_data"
    }
   ],
   "source": [
    "display(us)"
   ]
  },
  {
   "cell_type": "code",
   "execution_count": 20,
   "id": "1736dde0",
   "metadata": {},
   "outputs": [
    {
     "data": {
      "text/latex": [
       "$\\displaystyle d_{min}$"
      ],
      "text/plain": [
       "d_min"
      ]
     },
     "metadata": {},
     "output_type": "display_data"
    }
   ],
   "source": [
    "display(dmin)"
   ]
  },
  {
   "cell_type": "code",
   "execution_count": 21,
   "id": "92bd2e68",
   "metadata": {},
   "outputs": [
    {
     "data": {
      "text/latex": [
       "$\\displaystyle U_{i}$"
      ],
      "text/plain": [
       "U_i"
      ]
     },
     "metadata": {},
     "output_type": "display_data"
    }
   ],
   "source": [
    "display(ui)"
   ]
  },
  {
   "cell_type": "code",
   "execution_count": 22,
   "id": "deb57847",
   "metadata": {},
   "outputs": [
    {
     "data": {
      "text/latex": [
       "$\\displaystyle \\frac{F}{U_{s}}$"
      ],
      "text/plain": [
       "F/U_s"
      ]
     },
     "metadata": {},
     "output_type": "display_data"
    },
    {
     "data": {
      "text/latex": [
       "$\\displaystyle \\frac{F}{d_{min}}$"
      ],
      "text/plain": [
       "F/d_min"
      ]
     },
     "metadata": {},
     "output_type": "display_data"
    },
    {
     "data": {
      "text/latex": [
       "$\\displaystyle \\frac{F N}{U_{i} + U_{s}}$"
      ],
      "text/plain": [
       "F*N/(U_i + U_s)"
      ]
     },
     "metadata": {},
     "output_type": "display_data"
    }
   ],
   "source": [
    "eq = F/us\n",
    "eq2 = F/dmin\n",
    "eq3 = (N*F)/(us+ui)\n",
    "display(eq)\n",
    "display(eq2)\n",
    "display(eq3)"
   ]
  },
  {
   "cell_type": "markdown",
   "id": "ba839164",
   "metadata": {},
   "source": [
    "## Create Calculation Method for eq, eq2, eq3 formulas"
   ]
  },
  {
   "cell_type": "code",
   "execution_count": 23,
   "id": "323b0dd1",
   "metadata": {},
   "outputs": [],
   "source": [
    "eq_lmbd = sp.lambdify((F,us),eq)\n",
    "eq2_lmbd = sp.lambdify((F,dmin),eq2)\n",
    "eq3_lmbd = sp.lambdify((N,F,us,ui),eq3)"
   ]
  },
  {
   "cell_type": "markdown",
   "id": "58990182",
   "metadata": {},
   "source": [
    "## Display calculation result for eq, eq2, eq3 formulas"
   ]
  },
  {
   "cell_type": "code",
   "execution_count": 27,
   "id": "2cff64c7",
   "metadata": {},
   "outputs": [
    {
     "name": "stdout",
     "output_type": "stream",
     "text": [
      "512.0\n"
     ]
    }
   ],
   "source": [
    "F_value = 15 * 1024\n",
    "us_value = 30\n",
    "\n",
    "print(eq_lmbd(F_value, us_value))"
   ]
  },
  {
   "cell_type": "code",
   "execution_count": 28,
   "id": "d1d78977",
   "metadata": {},
   "outputs": [
    {
     "name": "stdout",
     "output_type": "stream",
     "text": [
      "7680.0\n"
     ]
    }
   ],
   "source": [
    "F_value = 15 * 1024\n",
    "dmin_value = 2\n",
    "\n",
    "print(eq2_lmbd(F_value, dmin_value))"
   ]
  },
  {
   "cell_type": "code",
   "execution_count": 29,
   "id": "de80f325",
   "metadata": {},
   "outputs": [
    {
     "name": "stdout",
     "output_type": "stream",
     "text": [
      "4800.0\n"
     ]
    }
   ],
   "source": [
    "N_value = 10\n",
    "F_value = 15 * 1024\n",
    "us_value = 30\n",
    "ui_value = 2\n",
    "\n",
    "print(eq3_lmbd(N_value,F_value,us_value,ui_value))"
   ]
  },
  {
   "cell_type": "code",
   "execution_count": 30,
   "id": "dc6a189d",
   "metadata": {},
   "outputs": [
    {
     "name": "stdout",
     "output_type": "stream",
     "text": [
      "[  1.   2.   3.   4.   5.   6.   7.   8.   9.  10.  11.  12.  13.  14.\n",
      "  15.  16.  17.  18.  19.  20.  21.  22.  23.  24.  25.  26.  27.  28.\n",
      "  29.  30.  31.  32.  33.  34.  35.  36.  37.  38.  39.  40.  41.  42.\n",
      "  43.  44.  45.  46.  47.  48.  49.  50.  51.  52.  53.  54.  55.  56.\n",
      "  57.  58.  59.  60.  61.  62.  63.  64.  65.  66.  67.  68.  69.  70.\n",
      "  71.  72.  73.  74.  75.  76.  77.  78.  79.  80.  81.  82.  83.  84.\n",
      "  85.  86.  87.  88.  89.  90.  91.  92.  93.  94.  95.  96.  97.  98.\n",
      "  99. 100.]\n"
     ]
    }
   ],
   "source": [
    "N_values = np.linspace(1,100,100)\n",
    "print(nilai_N)"
   ]
  },
  {
   "cell_type": "code",
   "execution_count": 32,
   "id": "2dc4e612",
   "metadata": {},
   "outputs": [
    {
     "name": "stdout",
     "output_type": "stream",
     "text": [
      "[  2.   4.   6.   8.  10.  12.  14.  16.  18.  20.  22.  24.  26.  28.\n",
      "  30.  32.  34.  36.  38.  40.  42.  44.  46.  48.  50.  52.  54.  56.\n",
      "  58.  60.  62.  64.  66.  68.  70.  72.  74.  76.  78.  80.  82.  84.\n",
      "  86.  88.  90.  92.  94.  96.  98. 100. 102. 104. 106. 108. 110. 112.\n",
      " 114. 116. 118. 120. 122. 124. 126. 128. 130. 132. 134. 136. 138. 140.\n",
      " 142. 144. 146. 148. 150. 152. 154. 156. 158. 160. 162. 164. 166. 168.\n",
      " 170. 172. 174. 176. 178. 180. 182. 184. 186. 188. 190. 192. 194. 196.\n",
      " 198. 200.]\n"
     ]
    }
   ],
   "source": [
    "ui_values = np.linspace(2,200,100)\n",
    "print(ui_values)"
   ]
  },
  {
   "cell_type": "code",
   "execution_count": 1,
   "id": "1fef2a07",
   "metadata": {},
   "outputs": [],
   "source": [
    "data_n = []\n",
    "data_n_temporary = []\n",
    "\n",
    "F_value = 15 * 1024\n",
    "us_value = 30\n",
    "dmin_value = 2\n"
   ]
  },
  {
   "cell_type": "code",
   "execution_count": null,
   "id": "c572e540",
   "metadata": {},
   "outputs": [],
   "source": []
  }
 ],
 "metadata": {
  "kernelspec": {
   "display_name": "Python 3 (ipykernel)",
   "language": "python",
   "name": "python3"
  },
  "language_info": {
   "codemirror_mode": {
    "name": "ipython",
    "version": 3
   },
   "file_extension": ".py",
   "mimetype": "text/x-python",
   "name": "python",
   "nbconvert_exporter": "python",
   "pygments_lexer": "ipython3",
   "version": "3.9.7"
  }
 },
 "nbformat": 4,
 "nbformat_minor": 5
}
