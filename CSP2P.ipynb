{
 "cells": [
  {
   "cell_type": "code",
   "execution_count": 24,
   "id": "bc01d508-2ca3-4cce-b2af-a0bc85b717d3",
   "metadata": {},
   "outputs": [],
   "source": [
    "import sympy as sp\n",
    "import matplotlib.pyplot as plt\n",
    "import numpy as np"
   ]
  },
  {
   "cell_type": "code",
   "execution_count": 25,
   "id": "f7d00a21-76c2-4ff0-8877-aa9a852f4b4a",
   "metadata": {},
   "outputs": [],
   "source": [
    "N, F, us, dmin, sigma= sp.symbols('N F U_s d_min \\Sigma{u_i}') #pensimbolan dengan sympy as sp"
   ]
  },
  {
   "cell_type": "code",
   "execution_count": 26,
   "id": "cd5d4aff-ad78-4b99-b836-9c478b18f042",
   "metadata": {},
   "outputs": [
    {
     "data": {
      "text/latex": [
       "$\\displaystyle \\Sigma{u_i}$"
      ],
      "text/plain": [
       "\\Sigma{u_i}"
      ]
     },
     "metadata": {},
     "output_type": "display_data"
    }
   ],
   "source": [
    "display(sigma) #display pensimbolan matematika"
   ]
  },
  {
   "cell_type": "code",
   "execution_count": 27,
   "id": "83ad5864-096d-4cfc-8cac-7664fa18ff30",
   "metadata": {},
   "outputs": [
    {
     "data": {
      "text/latex": [
       "$\\displaystyle \\frac{F N}{U_{s}}$"
      ],
      "text/plain": [
       "F*N/U_s"
      ]
     },
     "metadata": {},
     "output_type": "display_data"
    },
    {
     "data": {
      "text/latex": [
       "$\\displaystyle \\frac{F}{d_{min}}$"
      ],
      "text/plain": [
       "F/d_min"
      ]
     },
     "metadata": {},
     "output_type": "display_data"
    },
    {
     "data": {
      "text/latex": [
       "$\\displaystyle \\frac{F N}{U_{s} + \\Sigma{u_i}}$"
      ],
      "text/plain": [
       "F*N/(U_s + \\Sigma{u_i})"
      ]
     },
     "metadata": {},
     "output_type": "display_data"
    }
   ],
   "source": [
    "cseq = N*F/us #rumus client server, server side\n",
    "cseq2 = F/dmin #rumus client server, client side\n",
    "p2peq1 = F/us #rumus p2p, server side\n",
    "p2peq2 = F/dmin #rumus p2p, client side\n",
    "p2peq3 = N*F/(us + sigma) #rumus p2p, gabungan client dan server side(P2P)\n",
    "display(cseq) #display rumus\n",
    "display(cseq2)\n",
    "display(p2peq3)"
   ]
  },
  {
   "cell_type": "code",
   "execution_count": 28,
   "id": "209c19d1-6be5-4e0e-8c17-865bbacd389f",
   "metadata": {},
   "outputs": [],
   "source": [
    "cseq_lmbd = sp.lambdify((N,F,us),cseq)\n",
    "cseq_lmdb1 = sp.lambdify((F, dmin), cseq2)\n",
    "p2peq_lmdb1 = sp.lambdify((F, us), p2peq1)\n",
    "p2peq_lmdb2 = sp.lambdify((F, dmin), p2peq2)\n",
    "p2peq_lmdb3 = sp.lambdify((N, F, us, sigma), p2peq3)\n",
    "\n",
    "Fq = 1\n",
    "qdmin = 10\n",
    "qus = 10"
   ]
  },
  {
   "cell_type": "code",
   "execution_count": 37,
   "id": "8961c027-4a27-4d34-b21e-eb75887e1d88",
   "metadata": {},
   "outputs": [
    {
     "name": "stdout",
     "output_type": "stream",
     "text": [
      "[ 1.  2.  3.  4.  5.  6.  7.  8.  9. 10. 11. 12. 13. 14. 15. 16. 17. 18.\n",
      " 19. 20. 21. 22. 23. 24. 25. 26. 27. 28. 29. 30. 31. 32. 33. 34. 35.]\n"
     ]
    }
   ],
   "source": [
    "nilai_N = np.linspace(1,35,35) \n",
    "print(nilai_N)"
   ]
  },
  {
   "cell_type": "code",
   "execution_count": 39,
   "id": "a7e4d1fe-bb7d-4c0e-8ad1-a757d7c693bd",
   "metadata": {},
   "outputs": [
    {
     "name": "stdout",
     "output_type": "stream",
     "text": [
      "<class 'list'>\n",
      "<class 'list'>\n",
      "[0.1 0.2 0.3 0.4 0.5 0.6 0.7 0.8 0.9 1.  1.1 1.2 1.3 1.4 1.5 1.6 1.7 1.8\n",
      " 1.9 2.  2.1 2.2 2.3 2.4 2.5 2.6 2.7 2.8 2.9 3.  3.1 3.2 3.3 3.4 3.5]\n"
     ]
    }
   ],
   "source": [
    "#CLIENT SERVER\n",
    "data_n = []\n",
    "data_n1= []\n",
    "for n in nilai_N: #memasukan nilai n ke rumus\n",
    "    data_n.append(cseq_lmbd(n,Fq,qus))\n",
    "    data_n1.append(cseq_lmdb1(Fq,qdmin))\n",
    "print(type(data_n)) \n",
    "print(type(data_n1))\n",
    "\n",
    "hasilCS = np.maximum(data_n, data_n1) #mencari nilai maksimum di 2 data\n",
    "print(hasilCS)"
   ]
  },
  {
   "cell_type": "code",
   "execution_count": 40,
   "id": "a6be092a",
   "metadata": {},
   "outputs": [
    {
     "name": "stdout",
     "output_type": "stream",
     "text": [
      "<class 'list'>\n",
      "<class 'list'>\n",
      "<class 'list'>\n",
      "[0.1        0.16666667 0.23076923 0.28571429 0.33333333 0.375\n",
      " 0.41176471 0.44444444 0.47368421 0.5        0.52380952 0.54545455\n",
      " 0.56521739 0.58333333 0.6        0.61538462 0.62962963 0.64285714\n",
      " 0.65517241 0.66666667 0.67741935 0.6875     0.6969697  0.70588235\n",
      " 0.71428571 0.72222222 0.72972973 0.73684211 0.74358974 0.75\n",
      " 0.75609756 0.76190476 0.76744186 0.77272727 0.77777778]\n"
     ]
    }
   ],
   "source": [
    "#HASIL P2P\n",
    "data_p = []\n",
    "data_p1= []\n",
    "data_p2= []\n",
    "for n in nilai_N:\n",
    "    QSigma = n\n",
    "    data_p.append(p2peq_lmdb1(Fq, qus))\n",
    "    data_p1.append(p2peq_lmdb2(Fq, qdmin))\n",
    "    data_p2.append(p2peq_lmdb3(n, Fq, qus, QSigma))\n",
    "print(type(data_p))\n",
    "print(type(data_p1))\n",
    "print(type(data_p2))\n",
    "hasilp2pq = np.maximum(data_p, data_p2)\n",
    "hasilp2p = np.maximum(hasilp2pq, data_p1)\n",
    "print(hasilp2p)"
   ]
  },
  {
   "cell_type": "code",
   "execution_count": 41,
   "id": "050b2355-7021-4a46-aef5-46891a7b4960",
   "metadata": {},
   "outputs": [
    {
     "data": {
      "text/plain": [
       "Text(0, 0.5, 'D')"
      ]
     },
     "execution_count": 41,
     "metadata": {},
     "output_type": "execute_result"
    },
    {
     "data": {
      "image/png": "[encoded data removed]",
      "text/plain": [
       "<Figure size 640x480 with 1 Axes>"
      ]
     },
     "metadata": {},
     "output_type": "display_data"
    }
   ],
   "source": [
    "plt.plot(nilai_N, hasilCS, hasilp2p)\n",
    "plt.xlabel('N')\n",
    "plt.ylabel('D')"
   ]
  },
  {
   "cell_type": "code",
   "execution_count": null,
   "id": "f62d1bb9-bc5e-429f-984b-5f135db1b7cb",
   "metadata": {},
   "outputs": [],
   "source": []
  }
 ],
 "metadata": {
  "kernelspec": {
   "display_name": "Python 3 (ipykernel)",
   "language": "python",
   "name": "python3"
  },
  "language_info": {
   "codemirror_mode": {
    "name": "ipython",
    "version": 3
   },
   "file_extension": ".py",
   "mimetype": "text/x-python",
   "name": "python",
   "nbconvert_exporter": "python",
   "pygments_lexer": "ipython3",
   "version": "3.9.7"
  },
  "vscode": {
   "interpreter": {
    "hash": "faaada5bcd76f385647ada93378b2b8c712d2e802f3b3e0b5a4a9566bf5ed9c4"
   }
  }
 },
 "nbformat": 4,
 "nbformat_minor": 5
}
